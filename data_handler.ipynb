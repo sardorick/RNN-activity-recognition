{
 "cells": [
  {
   "cell_type": "code",
   "execution_count": 46,
   "metadata": {},
   "outputs": [],
   "source": [
    "import pandas as pd \n",
    "import numpy as np \n",
    "\n",
    "\n",
    "data_X_path  = \"C:/Users/Omistaja/Desktop/epicode/rnn-activity-recognition/Train/X_train.txt\"\n",
    "data_y_path  = \"C:/Users/Omistaja/Desktop/epicode/rnn-activity-recognition/Train/y_train.txt\"\n",
    "feature_info = \"C:/Users/Omistaja/Desktop/epicode/rnn-activity-recognition/features.txt\"\n",
    "\n",
    "data_X = pd.read_csv(data_X_path, delim_whitespace=' ', header=None)\n",
    "data_y = pd.read_csv(data_y_path,  header=None)\n",
    "feature_info_names = pd.read_csv(feature_info, header=None)\n",
    "\n",
    "data_y.columns = ['Activity']\n",
    "\n",
    "feature_list = []\n",
    "for i in feature_info_names[0]:\n",
    "     feature_list.append(i.strip())\n",
    "# print(data.head(5))\n",
    "# data_X\n",
    "# feature_info_names\n",
    "\n",
    "selected_feature = []\n",
    "\n",
    "# feature_columns = feature_list \n",
    "data_X.columns = feature_list\n",
    "# print(feature_list)\n",
    "for i in  data_X.columns:\n",
    "     if i.endswith('Mean-1'):\n",
    "          # print(i)\n",
    "          selected_feature.append(i)\n",
    "\n",
    "# print(selected_feature)\n",
    "\n",
    "selected_X = data_X[selected_feature]\n",
    "\n",
    "\n",
    "selected_y = data_y \n",
    "# print(selected_X)\n",
    "# print(selected_y)\n",
    "\n",
    "df = pd.concat([selected_X, selected_y], axis=1)\n",
    "df = df.dropna()\n",
    "df.to_csv('processed_data.csv')"
   ]
  },
  {
   "cell_type": "code",
   "execution_count": 41,
   "metadata": {},
   "outputs": [],
   "source": [
    "def next_stock_batch(batch_size, n_steps, df_base):\n",
    "\n",
    "    features = df_base.iloc[:, :].values \n",
    "    starting_point = np.random.randint(0, len(df_base)-n_steps-1,  batch_size)\n",
    "\n",
    "    x, y = [], []\n",
    "\n",
    "    for i in starting_point:\n",
    "        sequence = features[i:i+n_steps-1,  :]\n",
    "        target   = features[i+1:i+n_steps+1, -1]\n",
    "\n",
    "        x.append(sequence)\n",
    "        y.append(target)\n",
    "\n",
    "    return np.array(x), np.array(y)\n",
    "\n"
   ]
  },
  {
   "cell_type": "code",
   "execution_count": 45,
   "metadata": {},
   "outputs": [
    {
     "name": "stdout",
     "output_type": "stream",
     "text": [
      "(64, 49, 18)\n",
      "(64, 50)\n"
     ]
    }
   ],
   "source": [
    "batch_size = 64\n",
    "n_steps = 50\n",
    "df_base = df\n",
    "\n",
    "x, y = next_stock_batch(batch_size, n_steps, df_base)\n",
    "\n",
    "print(x.shape)\n",
    "print(y.shape)\n"
   ]
  },
  {
   "cell_type": "code",
   "execution_count": null,
   "metadata": {},
   "outputs": [],
   "source": []
  },
  {
   "cell_type": "code",
   "execution_count": null,
   "metadata": {},
   "outputs": [],
   "source": [
    "\n",
    "def next_stock_batch(batch_size, n_steps, df_base):\n",
    "\n",
    "    features = df_base.iloc[:, -8:].values \n",
    "    starting_point = np.random.randint(0, len(df_base)-n_steps-1,  batch_size)\n",
    "\n",
    "    x, y = [], []\n",
    "\n",
    "    for i in starting_point:\n",
    "        sequence = features[i:i+n_steps-1,  :]\n",
    "        target   = features[i+1:i+n_steps+1, -1]\n",
    "\n",
    "        x.append(sequence)\n",
    "        y.append(target)\n",
    "\n",
    "    return np.array(x), np.array(y)\n"
   ]
  }
 ],
 "metadata": {
  "kernelspec": {
   "display_name": "Python 3.8.13 ('deeplearning')",
   "language": "python",
   "name": "python3"
  },
  "language_info": {
   "codemirror_mode": {
    "name": "ipython",
    "version": 3
   },
   "file_extension": ".py",
   "mimetype": "text/x-python",
   "name": "python",
   "nbconvert_exporter": "python",
   "pygments_lexer": "ipython3",
   "version": "3.8.13"
  },
  "orig_nbformat": 4,
  "vscode": {
   "interpreter": {
    "hash": "803b120a3d80ed066c595d425efcb8e9df69a9102ecfda2ded9dd67fa4064c90"
   }
  }
 },
 "nbformat": 4,
 "nbformat_minor": 2
}
